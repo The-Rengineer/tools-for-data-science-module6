{
 "cells": [
  {
   "cell_type": "markdown",
   "id": "de24b189-f753-4281-a3a7-bb79224a516d",
   "metadata": {},
   "source": [
    "# Data Science Tools and Ecosystem"
   ]
  },
  {
   "cell_type": "markdown",
   "id": "92983102-eeec-46b0-bfbf-bba72573168b",
   "metadata": {},
   "source": [
    "In this notebook, Data Science Tools and Ecosystem are summarized."
   ]
  },
  {
   "cell_type": "markdown",
   "id": "c10ceae4-1dc3-4543-96ed-72bad36e6b7f",
   "metadata": {},
   "source": [
    "Some of the popular languages that Data Scientists use are:\n",
    "1. Python\n",
    "2. R\n",
    "3. SQL"
   ]
  },
  {
   "cell_type": "markdown",
   "id": "52247e93-b78f-4efc-a621-6e9275a7a273",
   "metadata": {},
   "source": [
    "Some of the commonly used libraries used by Data Scientists include:\n",
    "\n",
    "1. NumPy\n",
    "2. Pandas\n",
    "3. Matplotlib\n",
    "4. Seaborn\n",
    "5. Scikit-learn\n",
    "6. TensorFlow\n",
    "7. PyTorch\n",
    "8. Keras"
   ]
  },
  {
   "cell_type": "markdown",
   "id": "4b19ab20-6c3d-4093-b872-e3eb1d380a4d",
   "metadata": {},
   "source": [
    "| Data Science Tools      |\n",
    "|-------------------------|\n",
    "| Jupyter Notebook        |\n",
    "| RStudio                 |\n",
    "| Visual Studio Code (VS Code) |\n"
   ]
  },
  {
   "cell_type": "markdown",
   "id": "86dee5b5-7427-4d9c-8390-6cea4757346c",
   "metadata": {},
   "source": [
    "### Below are a few examples of evaluating arithmetic expressions in Python"
   ]
  },
  {
   "cell_type": "code",
   "execution_count": 2,
   "id": "d4246911-efd1-479a-a6e0-61f7a8cb8c4c",
   "metadata": {},
   "outputs": [
    {
     "data": {
      "text/plain": [
       "17"
      ]
     },
     "execution_count": 2,
     "metadata": {},
     "output_type": "execute_result"
    }
   ],
   "source": [
    "# This a simple arithmetic expression to mutiply then add integers\n",
    "(3*4)+5"
   ]
  },
  {
   "cell_type": "code",
   "execution_count": 3,
   "id": "95b281dc-ff95-4565-a3e9-17e72e0f8481",
   "metadata": {},
   "outputs": [
    {
     "data": {
      "text/plain": [
       "33.333333333333336"
      ]
     },
     "execution_count": 3,
     "metadata": {},
     "output_type": "execute_result"
    }
   ],
   "source": [
    "# This will convert 200 minutes to hours by diving by 60\n",
    "200/6"
   ]
  },
  {
   "cell_type": "markdown",
   "id": "1f186829-6ed1-45d3-9e0d-bcb4583487f2",
   "metadata": {},
   "source": [
    "**Objectives:**\n",
    "\n",
    "- List popular languages for Data Science  \n",
    "- Identify commonly used libraries in Data Science  \n",
    "- Demonstrate the use of development tools like Jupyter Notebook  "
   ]
  },
  {
   "cell_type": "markdown",
   "id": "a242845d-2660-40c1-87e5-1e94bd0304c8",
   "metadata": {},
   "source": [
    "## Author\n",
    "Ren Miyamoto"
   ]
  },
  {
   "cell_type": "code",
   "execution_count": null,
   "id": "0f46e5f1-4a34-46af-a6be-ebda76f37cbe",
   "metadata": {},
   "outputs": [],
   "source": []
  }
 ],
 "metadata": {
  "kernelspec": {
   "display_name": "Python 3 (ipykernel)",
   "language": "python",
   "name": "python3"
  },
  "language_info": {
   "codemirror_mode": {
    "name": "ipython",
    "version": 3
   },
   "file_extension": ".py",
   "mimetype": "text/x-python",
   "name": "python",
   "nbconvert_exporter": "python",
   "pygments_lexer": "ipython3",
   "version": "3.12.8"
  }
 },
 "nbformat": 4,
 "nbformat_minor": 5
}
